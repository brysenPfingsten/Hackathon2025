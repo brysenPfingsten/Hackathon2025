{
 "cells": [
  {
   "cell_type": "code",
   "execution_count": null,
   "metadata": {},
   "outputs": [
    {
     "name": "stderr",
     "output_type": "stream",
     "text": [
      "WARNING:absl:Compiled the loaded model, but the compiled metrics have yet to be built. `model.compile_metrics` will be empty until you train or evaluate the model.\n"
     ]
    }
   ],
   "source": [
    "import numpy as np\n",
    "from tensorflow.keras.preprocessing import image\n",
    "from tensorflow.keras.models import load_model\n",
    "\n",
    "# Obtained after training\n",
    "model = load_model('deepfake_cnn_model.h5')\n",
    "\n",
    "def preprocessImage(imgPath):\n",
    "    img = image.load_img(imgPath)  # Assuming preprocessing of 256x256\n",
    "    imgArray = image.img_to_array(img)  # Convert to numpy array\n",
    "    imgArray = imgArray / 255.0        # Normalize (same as training)\n",
    "    imgArray = np.expand_dims(imgArray, axis=0)  # Add batch dimension\n",
    "    return imgArray\n"
   ]
  },
  {
   "cell_type": "code",
   "execution_count": 17,
   "metadata": {},
   "outputs": [
    {
     "name": "stdout",
     "output_type": "stream",
     "text": [
      "\u001b[1m1/1\u001b[0m \u001b[32m━━━━━━━━━━━━━━━━━━━━\u001b[0m\u001b[37m\u001b[0m \u001b[1m0s\u001b[0m 52ms/step\n",
      "AI-generated (Deepfake) — Confidence: 0.9913\n"
     ]
    }
   ],
   "source": [
    "# INPUT IMAGE PATH HERE\n",
    "imgPath = r\"\" \n",
    "inputImage = preprocessImage(imgPath)\n",
    "\n",
    "prediction = model.predict(inputImage)[0][0]\n",
    "\n",
    "# Interpret result\n",
    "if prediction < 0.5:\n",
    "    print(f\"AI-generated (Deepfake) — Confidence: {1 - prediction:.4f}\")\n",
    "else:\n",
    "    print(f\"Real Image — Confidence: {prediction:.4f}\")"
   ]
  }
 ],
 "metadata": {
  "kernelspec": {
   "display_name": "Python 3",
   "language": "python",
   "name": "python3"
  },
  "language_info": {
   "codemirror_mode": {
    "name": "ipython",
    "version": 3
   },
   "file_extension": ".py",
   "mimetype": "text/x-python",
   "name": "python",
   "nbconvert_exporter": "python",
   "pygments_lexer": "ipython3",
   "version": "3.12.0"
  }
 },
 "nbformat": 4,
 "nbformat_minor": 2
}
