{
 "cells": [
  {
   "cell_type": "code",
   "execution_count": null,
   "metadata": {},
   "outputs": [],
   "source": [
    "import os\n",
    "import numpy as np\n",
    "from tensorflow.keras.preprocessing import image\n",
    "from tensorflow.keras.preprocessing.image import ImageDataGenerator\n",
    "from tensorflow.keras.models import load_model\n",
    "from sklearn.metrics import roc_auc_score\n",
    "\n",
    "# Obtained after training\n",
    "model = load_model('deepfake_cnn_model.h5')\n",
    "\n",
    "def preprocessImage(imgPath):\n",
    "    img = image.load_img(imgPath)  # Assuming preprocessing of 256x256\n",
    "    imgArray = image.img_to_array(img)  # Convert to numpy array\n",
    "    imgArray = imgArray / 255.0        # Normalize (same as training)\n",
    "    imgArray = np.expand_dims(imgArray, axis=0)  # Add batch dimension\n",
    "    return imgArray\n"
   ]
  },
  {
   "cell_type": "code",
   "execution_count": 31,
   "metadata": {},
   "outputs": [
    {
     "name": "stdout",
     "output_type": "stream",
     "text": [
      "\u001b[1m1/1\u001b[0m \u001b[32m━━━━━━━━━━━━━━━━━━━━\u001b[0m\u001b[37m\u001b[0m \u001b[1m0s\u001b[0m 114ms/step\n",
      "AI-generated (Deepfake) — Confidence: 0.9574\n"
     ]
    }
   ],
   "source": [
    "# SINGLE IMAGE TEST\n",
    "\n",
    "# INPUT IMAGE PATH HERE\n",
    "imgPath = r\"\" \n",
    "inputImage = preprocessImage(imgPath)\n",
    "\n",
    "prediction = model.predict(inputImage)[0][0]\n",
    "\n",
    "# Interpret result\n",
    "if prediction < 0.5:\n",
    "    print(f\"AI-generated (Deepfake) — Confidence: {1 - prediction:.4f}\")\n",
    "else:\n",
    "    print(f\"Real Image — Confidence: {prediction:.4f}\")"
   ]
  },
  {
   "cell_type": "code",
   "execution_count": null,
   "metadata": {},
   "outputs": [],
   "source": [
    "# DATASET REDUCTION\n",
    "\n",
    "data_dir = \"./Dataset/Test\"\n",
    "all_files = []\n",
    "for cls in ['Real', 'Fake']:\n",
    "    class_path = os.path.join(data_dir, cls)\n",
    "    files = [os.path.join(cls, f) for f in os.listdir(class_path) if f.endswith('.jpg')]\n",
    "    all_files.extend(files)\n",
    "\n",
    "# Shuffle and take 10%\n",
    "np.random.seed(123)\n",
    "np.random.shuffle(all_files)\n",
    "test_files = all_files[:int(0.1 * len(all_files))]"
   ]
  },
  {
   "cell_type": "code",
   "execution_count": null,
   "metadata": {},
   "outputs": [],
   "source": [
    "# CALCULATING AREA UNDER CURVE\n",
    "\n",
    "testDatagen = ImageDataGenerator(rescale=1./255)\n",
    "\n",
    "testGenerator = testDatagen.flow_from_directory(\n",
    "    './Dataset/Test',\n",
    "    target_size=(256, 256),  # match your model's expected input size\n",
    "    batch_size=32,\n",
    "    class_mode='binary',\n",
    "    shuffle=False  # important for matching predictions with labels\n",
    ")\n",
    "\n",
    "yPredProbs = model.predict(testGenerator)\n",
    "yTrue = testGenerator.classes\n",
    "\n",
    "auc = roc_auc_score(yTrue, yPredProbs)\n",
    "print(f\"AUC: {auc:.4f}\")"
   ]
  }
 ],
 "metadata": {
  "kernelspec": {
   "display_name": "Python 3",
   "language": "python",
   "name": "python3"
  },
  "language_info": {
   "codemirror_mode": {
    "name": "ipython",
    "version": 3
   },
   "file_extension": ".py",
   "mimetype": "text/x-python",
   "name": "python",
   "nbconvert_exporter": "python",
   "pygments_lexer": "ipython3",
   "version": "3.12.0"
  }
 },
 "nbformat": 4,
 "nbformat_minor": 2
}
